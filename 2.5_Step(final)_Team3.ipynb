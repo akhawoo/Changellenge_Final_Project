{
 "cells": [
  {
   "cell_type": "code",
   "execution_count": 1,
   "id": "af3d0164",
   "metadata": {},
   "outputs": [],
   "source": [
    "import warnings\n",
    "warnings.filterwarnings(\"ignore\")\n",
    "import pandas as pd\n",
    "import numpy as np\n",
    "from sklearn.linear_model import LinearRegression\n",
    "from sklearn.metrics import mean_squared_error, mean_absolute_error, r2_score"
   ]
  },
  {
   "cell_type": "code",
   "execution_count": 2,
   "id": "4d5834ef",
   "metadata": {
    "scrolled": true
   },
   "outputs": [
    {
     "data": {
      "text/plain": [
       "Index(['date', 'season', 'country_name', 'league_name', 'match_api_id',\n",
       "       'team_long_name_home', 'team_short_name_home', 'team_long_name_away',\n",
       "       'team_short_name_away', 'match_result', 'home_players_average_rating',\n",
       "       'away_players_average_rating', 'home_players_average_score',\n",
       "       'away_players_average_score', 'home_team_score', 'away_team_score',\n",
       "       'avg_bet_home', 'avg_bet_away'],\n",
       "      dtype='object')"
      ]
     },
     "execution_count": 2,
     "metadata": {},
     "output_type": "execute_result"
    }
   ],
   "source": [
    "df = pd.read_csv('./src/final_dataset.csv')\n",
    "df.columns"
   ]
  },
  {
   "cell_type": "markdown",
   "id": "b33bfd9b",
   "metadata": {},
   "source": [
    "Для прогнозных данных нужны только самые актуальные показатели"
   ]
  },
  {
   "cell_type": "code",
   "execution_count": 3,
   "id": "9011d4d8",
   "metadata": {},
   "outputs": [],
   "source": [
    "df1_home = df[['date', 'country_name', 'league_name', 'team_long_name_home', 'team_short_name_home', 'home_players_average_rating', 'home_players_average_score', 'home_team_score']]\n",
    "df1_home=df1_home.sort_values('date').drop_duplicates(['country_name', 'league_name',\n",
    "       'team_long_name_home', 'team_short_name_home'], keep='last')\n",
    "df1_home.drop('date', axis= 1 , inplace= True )\n",
    "df1_away = df[['date', 'country_name', 'league_name', 'team_long_name_away', 'team_short_name_away', 'away_players_average_rating', 'away_players_average_score', 'away_team_score']]\n",
    "df1_away=df1_away.sort_values('date').drop_duplicates(['country_name', 'league_name',\n",
    "       'team_long_name_away', 'team_short_name_away'], keep='last')\n",
    "df1_away.drop('date', axis= 1 , inplace= True )"
   ]
  },
  {
   "cell_type": "markdown",
   "id": "8acae66a",
   "metadata": {},
   "source": [
    "Проверим, каждая ли команда играла и на своем поле, и на поле противника."
   ]
  },
  {
   "cell_type": "code",
   "execution_count": 4,
   "id": "fc1f637f",
   "metadata": {},
   "outputs": [
    {
     "name": "stdout",
     "output_type": "stream",
     "text": [
      "241\n",
      "242\n"
     ]
    }
   ],
   "source": [
    "print(len(df1_home))\n",
    "print(len(df1_away))"
   ]
  },
  {
   "cell_type": "markdown",
   "id": "53899590",
   "metadata": {},
   "source": [
    "Определим недостающую команду, заполним недостающие данные для нее и добавим в массив"
   ]
  },
  {
   "cell_type": "code",
   "execution_count": 5,
   "id": "8c6b4b63",
   "metadata": {},
   "outputs": [
    {
     "data": {
      "text/plain": [
       "242"
      ]
     },
     "execution_count": 5,
     "metadata": {},
     "output_type": "execute_result"
    }
   ],
   "source": [
    "missed_team=df1_away[ ~ df1_away['team_long_name_away']. isin (df1_home['team_long_name_home'])]\n",
    "missed_team.rename(columns = {'team_long_name_away':'team_long_name_home', 'team_short_name_away':'team_short_name_home', 'away_players_average_rating':'home_players_average_rating', 'away_players_average_score':'home_players_average_score', 'away_team_score':'home_team_score'}, inplace = True )\n",
    "df1_home=pd.concat([df1_home, missed_team], ignore_index=True)\n",
    "len(df1_home)"
   ]
  },
  {
   "cell_type": "markdown",
   "id": "aa2258a5",
   "metadata": {},
   "source": [
    "Соберем все возможные комбинации команд внутри лиг"
   ]
  },
  {
   "cell_type": "code",
   "execution_count": 6,
   "id": "08e44712",
   "metadata": {},
   "outputs": [
    {
     "data": {
      "text/html": [
       "<div>\n",
       "<style scoped>\n",
       "    .dataframe tbody tr th:only-of-type {\n",
       "        vertical-align: middle;\n",
       "    }\n",
       "\n",
       "    .dataframe tbody tr th {\n",
       "        vertical-align: top;\n",
       "    }\n",
       "\n",
       "    .dataframe thead th {\n",
       "        text-align: right;\n",
       "    }\n",
       "</style>\n",
       "<table border=\"1\" class=\"dataframe\">\n",
       "  <thead>\n",
       "    <tr style=\"text-align: right;\">\n",
       "      <th></th>\n",
       "      <th>country_name</th>\n",
       "      <th>league_name</th>\n",
       "      <th>team_long_name_home</th>\n",
       "      <th>team_short_name_home</th>\n",
       "      <th>home_players_average_rating</th>\n",
       "      <th>home_players_average_score</th>\n",
       "      <th>home_team_score</th>\n",
       "      <th>team_long_name_away</th>\n",
       "      <th>team_short_name_away</th>\n",
       "      <th>away_players_average_rating</th>\n",
       "      <th>away_players_average_score</th>\n",
       "      <th>away_team_score</th>\n",
       "    </tr>\n",
       "  </thead>\n",
       "  <tbody>\n",
       "    <tr>\n",
       "      <th>1</th>\n",
       "      <td>Belgium</td>\n",
       "      <td>Belgium Jupiler League</td>\n",
       "      <td>KAS Eupen</td>\n",
       "      <td>EUP</td>\n",
       "      <td>64.0</td>\n",
       "      <td>58.94</td>\n",
       "      <td>52.50</td>\n",
       "      <td>Sint-Truidense VV</td>\n",
       "      <td>STT</td>\n",
       "      <td>64.00</td>\n",
       "      <td>58.08</td>\n",
       "      <td>46.75</td>\n",
       "    </tr>\n",
       "    <tr>\n",
       "      <th>2</th>\n",
       "      <td>Belgium</td>\n",
       "      <td>Belgium Jupiler League</td>\n",
       "      <td>KAS Eupen</td>\n",
       "      <td>EUP</td>\n",
       "      <td>64.0</td>\n",
       "      <td>58.94</td>\n",
       "      <td>52.50</td>\n",
       "      <td>Oud-Heverlee Leuven</td>\n",
       "      <td>O-H</td>\n",
       "      <td>66.36</td>\n",
       "      <td>60.13</td>\n",
       "      <td>49.50</td>\n",
       "    </tr>\n",
       "    <tr>\n",
       "      <th>3</th>\n",
       "      <td>Belgium</td>\n",
       "      <td>Belgium Jupiler League</td>\n",
       "      <td>KAS Eupen</td>\n",
       "      <td>EUP</td>\n",
       "      <td>64.0</td>\n",
       "      <td>58.94</td>\n",
       "      <td>52.50</td>\n",
       "      <td>RAEC Mons</td>\n",
       "      <td>MON</td>\n",
       "      <td>64.91</td>\n",
       "      <td>59.76</td>\n",
       "      <td>50.75</td>\n",
       "    </tr>\n",
       "    <tr>\n",
       "      <th>4</th>\n",
       "      <td>Belgium</td>\n",
       "      <td>Belgium Jupiler League</td>\n",
       "      <td>KAS Eupen</td>\n",
       "      <td>EUP</td>\n",
       "      <td>64.0</td>\n",
       "      <td>58.94</td>\n",
       "      <td>52.50</td>\n",
       "      <td>Beerschot AC</td>\n",
       "      <td>BAC</td>\n",
       "      <td>62.91</td>\n",
       "      <td>57.84</td>\n",
       "      <td>49.38</td>\n",
       "    </tr>\n",
       "    <tr>\n",
       "      <th>5</th>\n",
       "      <td>Belgium</td>\n",
       "      <td>Belgium Jupiler League</td>\n",
       "      <td>KAS Eupen</td>\n",
       "      <td>EUP</td>\n",
       "      <td>64.0</td>\n",
       "      <td>58.94</td>\n",
       "      <td>52.50</td>\n",
       "      <td>Lierse SK</td>\n",
       "      <td>LIE</td>\n",
       "      <td>63.27</td>\n",
       "      <td>56.77</td>\n",
       "      <td>56.00</td>\n",
       "    </tr>\n",
       "    <tr>\n",
       "      <th>...</th>\n",
       "      <td>...</td>\n",
       "      <td>...</td>\n",
       "      <td>...</td>\n",
       "      <td>...</td>\n",
       "      <td>...</td>\n",
       "      <td>...</td>\n",
       "      <td>...</td>\n",
       "      <td>...</td>\n",
       "      <td>...</td>\n",
       "      <td>...</td>\n",
       "      <td>...</td>\n",
       "      <td>...</td>\n",
       "    </tr>\n",
       "    <tr>\n",
       "      <th>955</th>\n",
       "      <td>Spain</td>\n",
       "      <td>Spain LIGA BBVA</td>\n",
       "      <td>Villarreal CF</td>\n",
       "      <td>VIL</td>\n",
       "      <td>75.0</td>\n",
       "      <td>67.13</td>\n",
       "      <td>45.75</td>\n",
       "      <td>Sevilla FC</td>\n",
       "      <td>SEV</td>\n",
       "      <td>76.45</td>\n",
       "      <td>68.31</td>\n",
       "      <td>52.50</td>\n",
       "    </tr>\n",
       "    <tr>\n",
       "      <th>956</th>\n",
       "      <td>Spain</td>\n",
       "      <td>Spain LIGA BBVA</td>\n",
       "      <td>Villarreal CF</td>\n",
       "      <td>VIL</td>\n",
       "      <td>75.0</td>\n",
       "      <td>67.13</td>\n",
       "      <td>45.75</td>\n",
       "      <td>FC Barcelona</td>\n",
       "      <td>BAR</td>\n",
       "      <td>84.27</td>\n",
       "      <td>74.21</td>\n",
       "      <td>52.38</td>\n",
       "    </tr>\n",
       "    <tr>\n",
       "      <th>957</th>\n",
       "      <td>Spain</td>\n",
       "      <td>Spain LIGA BBVA</td>\n",
       "      <td>Villarreal CF</td>\n",
       "      <td>VIL</td>\n",
       "      <td>75.0</td>\n",
       "      <td>67.13</td>\n",
       "      <td>45.75</td>\n",
       "      <td>Real Madrid CF</td>\n",
       "      <td>REA</td>\n",
       "      <td>83.73</td>\n",
       "      <td>74.17</td>\n",
       "      <td>54.50</td>\n",
       "    </tr>\n",
       "    <tr>\n",
       "      <th>958</th>\n",
       "      <td>Spain</td>\n",
       "      <td>Spain LIGA BBVA</td>\n",
       "      <td>Villarreal CF</td>\n",
       "      <td>VIL</td>\n",
       "      <td>75.0</td>\n",
       "      <td>67.13</td>\n",
       "      <td>45.75</td>\n",
       "      <td>Getafe CF</td>\n",
       "      <td>GET</td>\n",
       "      <td>74.00</td>\n",
       "      <td>66.86</td>\n",
       "      <td>43.62</td>\n",
       "    </tr>\n",
       "    <tr>\n",
       "      <th>959</th>\n",
       "      <td>Spain</td>\n",
       "      <td>Spain LIGA BBVA</td>\n",
       "      <td>Villarreal CF</td>\n",
       "      <td>VIL</td>\n",
       "      <td>75.0</td>\n",
       "      <td>67.13</td>\n",
       "      <td>45.75</td>\n",
       "      <td>Rayo Vallecano</td>\n",
       "      <td>RAY</td>\n",
       "      <td>73.60</td>\n",
       "      <td>63.48</td>\n",
       "      <td>47.12</td>\n",
       "    </tr>\n",
       "  </tbody>\n",
       "</table>\n",
       "<p>6532 rows × 12 columns</p>\n",
       "</div>"
      ],
      "text/plain": [
       "    country_name             league_name team_long_name_home  \\\n",
       "1        Belgium  Belgium Jupiler League           KAS Eupen   \n",
       "2        Belgium  Belgium Jupiler League           KAS Eupen   \n",
       "3        Belgium  Belgium Jupiler League           KAS Eupen   \n",
       "4        Belgium  Belgium Jupiler League           KAS Eupen   \n",
       "5        Belgium  Belgium Jupiler League           KAS Eupen   \n",
       "..           ...                     ...                 ...   \n",
       "955        Spain         Spain LIGA BBVA       Villarreal CF   \n",
       "956        Spain         Spain LIGA BBVA       Villarreal CF   \n",
       "957        Spain         Spain LIGA BBVA       Villarreal CF   \n",
       "958        Spain         Spain LIGA BBVA       Villarreal CF   \n",
       "959        Spain         Spain LIGA BBVA       Villarreal CF   \n",
       "\n",
       "    team_short_name_home  home_players_average_rating  \\\n",
       "1                    EUP                         64.0   \n",
       "2                    EUP                         64.0   \n",
       "3                    EUP                         64.0   \n",
       "4                    EUP                         64.0   \n",
       "5                    EUP                         64.0   \n",
       "..                   ...                          ...   \n",
       "955                  VIL                         75.0   \n",
       "956                  VIL                         75.0   \n",
       "957                  VIL                         75.0   \n",
       "958                  VIL                         75.0   \n",
       "959                  VIL                         75.0   \n",
       "\n",
       "     home_players_average_score  home_team_score  team_long_name_away  \\\n",
       "1                         58.94            52.50    Sint-Truidense VV   \n",
       "2                         58.94            52.50  Oud-Heverlee Leuven   \n",
       "3                         58.94            52.50            RAEC Mons   \n",
       "4                         58.94            52.50         Beerschot AC   \n",
       "5                         58.94            52.50            Lierse SK   \n",
       "..                          ...              ...                  ...   \n",
       "955                       67.13            45.75           Sevilla FC   \n",
       "956                       67.13            45.75         FC Barcelona   \n",
       "957                       67.13            45.75       Real Madrid CF   \n",
       "958                       67.13            45.75            Getafe CF   \n",
       "959                       67.13            45.75       Rayo Vallecano   \n",
       "\n",
       "    team_short_name_away  away_players_average_rating  \\\n",
       "1                    STT                        64.00   \n",
       "2                    O-H                        66.36   \n",
       "3                    MON                        64.91   \n",
       "4                    BAC                        62.91   \n",
       "5                    LIE                        63.27   \n",
       "..                   ...                          ...   \n",
       "955                  SEV                        76.45   \n",
       "956                  BAR                        84.27   \n",
       "957                  REA                        83.73   \n",
       "958                  GET                        74.00   \n",
       "959                  RAY                        73.60   \n",
       "\n",
       "     away_players_average_score  away_team_score  \n",
       "1                         58.08            46.75  \n",
       "2                         60.13            49.50  \n",
       "3                         59.76            50.75  \n",
       "4                         57.84            49.38  \n",
       "5                         56.77            56.00  \n",
       "..                          ...              ...  \n",
       "955                       68.31            52.50  \n",
       "956                       74.21            52.38  \n",
       "957                       74.17            54.50  \n",
       "958                       66.86            43.62  \n",
       "959                       63.48            47.12  \n",
       "\n",
       "[6532 rows x 12 columns]"
      ]
     },
     "execution_count": 6,
     "metadata": {},
     "output_type": "execute_result"
    }
   ],
   "source": [
    "cross_joined_df = pd.concat(\n",
    "    [\n",
    "        sub_df.merge(sub_df, on=['country_name','league_name']).query('team_long_name_home_x != team_long_name_home_y')\n",
    "        for _, sub_df in df1_home.groupby('league_name')\n",
    "    ])\n",
    "cross_joined_df.rename(columns = {'team_long_name_home_x':'team_long_name_home', 'team_short_name_home_x':'team_short_name_home',\n",
    "                                  'home_players_average_rating_x':'home_players_average_rating', 'home_players_average_score_x':'home_players_average_score', 'home_team_score_x':'home_team_score',\n",
    "                                 'team_long_name_home_y':'team_long_name_away', 'team_short_name_home_y':'team_short_name_away',\n",
    "                                 'home_players_average_rating_y':'away_players_average_rating', 'home_players_average_score_y':'away_players_average_score', 'home_team_score_y':'away_team_score'}, inplace = True )\n",
    "cross_joined_df"
   ]
  },
  {
   "cell_type": "markdown",
   "id": "f17d3404",
   "metadata": {},
   "source": [
    "Добавим переменные, использованные в модели"
   ]
  },
  {
   "cell_type": "code",
   "execution_count": 7,
   "id": "bfea6b04",
   "metadata": {},
   "outputs": [],
   "source": [
    "cross_joined_df['rating_diff']=cross_joined_df['home_players_average_rating']-cross_joined_df['away_players_average_rating']\n",
    "cross_joined_df['players_score_diff']=cross_joined_df['home_players_average_score']-cross_joined_df['away_players_average_score']\n",
    "cross_joined_df['team_diff']=cross_joined_df['home_team_score']-cross_joined_df['away_team_score']\n",
    "#cross_joined_df['bet_diff']=cross_joined_df['avg_bet_home']-cross_joined_df['avg_bet_away']"
   ]
  },
  {
   "cell_type": "markdown",
   "id": "8e4ba914",
   "metadata": {},
   "source": [
    "Приведем прогноз к формату исторических данных, использованных в основной модели проекта"
   ]
  },
  {
   "cell_type": "code",
   "execution_count": 8,
   "id": "2e942a18",
   "metadata": {},
   "outputs": [
    {
     "data": {
      "text/plain": [
       "Index(['country_name', 'league_name', 'team_long_name', 'team_short_name',\n",
       "       'rating_diff', 'players_score_diff', 'team_diff', 'homestage'],\n",
       "      dtype='object')"
      ]
     },
     "execution_count": 8,
     "metadata": {},
     "output_type": "execute_result"
    }
   ],
   "source": [
    "homedf1=cross_joined_df[['country_name', 'league_name', 'team_long_name_home', 'team_short_name_home',\n",
    "    'rating_diff', 'players_score_diff', 'team_diff']]\n",
    "homedf1.rename(columns = {'team_long_name_home':'team_long_name', 'team_short_name_home':'team_short_name'}, inplace = True )\n",
    "homedf1['homestage']=1\n",
    "awaydf1=cross_joined_df[['country_name', 'league_name', 'team_long_name_away', 'team_short_name_away',\n",
    "    'rating_diff', 'players_score_diff', 'team_diff']]\n",
    "awaydf1.rename(columns = {'team_long_name_away':'team_long_name', 'team_short_name_away':'team_short_name'}, inplace = True )\n",
    "awaydf1['homestage']=0\n",
    "awaydf1['rating_diff'] = -1*awaydf1['rating_diff']\n",
    "awaydf1['team_diff'] = -1*awaydf1['team_diff']\n",
    "awaydf1['players_score_diff'] = -1*awaydf1['players_score_diff']\n",
    "cross_joined_df = pd.concat([homedf1, awaydf1], ignore_index=True)\n",
    "cross_joined_df.columns"
   ]
  },
  {
   "cell_type": "markdown",
   "id": "642d0442",
   "metadata": {},
   "source": [
    "Вернемся к историческим данным и спрогнозируем bet_diff, avg_bet_home, avg_bet_away"
   ]
  },
  {
   "cell_type": "code",
   "execution_count": 9,
   "id": "7496b6ba",
   "metadata": {},
   "outputs": [],
   "source": [
    "df['rating_diff']=df['home_players_average_rating']-df['away_players_average_rating']\n",
    "df['players_score_diff']=df['home_players_average_score']-df['away_players_average_score']\n",
    "df['team_diff']=df['home_team_score']-df['away_team_score']\n",
    "df['bet_diff']=df['avg_bet_home']-df['avg_bet_away']"
   ]
  },
  {
   "cell_type": "code",
   "execution_count": 10,
   "id": "c8626703",
   "metadata": {},
   "outputs": [
    {
     "data": {
      "text/plain": [
       "(29832, 13)"
      ]
     },
     "execution_count": 10,
     "metadata": {},
     "output_type": "execute_result"
    }
   ],
   "source": [
    "homedf=df[['date', 'season', 'country_name', 'league_name', 'match_api_id', 'team_long_name_home', 'team_short_name_home',\n",
    "    'match_result', 'rating_diff', 'players_score_diff', 'team_diff', 'bet_diff']]\n",
    "homedf.rename(columns = {'team_long_name_home':'team_long_name', 'team_short_name_home':'team_short_name'}, inplace = True )\n",
    "homedf['homestage']=1\n",
    "homedf['match_result'] = homedf['match_result'].apply(lambda x: 1 if x == 1 else 0)\n",
    "awaydf=df[['date', 'season', 'country_name', 'league_name', 'match_api_id', 'team_long_name_away', 'team_short_name_away',\n",
    "    'match_result', 'rating_diff', 'players_score_diff', 'team_diff', 'bet_diff']]\n",
    "awaydf.rename(columns = {'team_long_name_away':'team_long_name', 'team_short_name_away':'team_short_name'}, inplace = True )\n",
    "\n",
    "awaydf['homestage']=0\n",
    "awaydf['match_result'] = awaydf['match_result'].apply(lambda x: 1 if x == -1 else 0)\n",
    "awaydf['rating_diff'] = -1*awaydf['rating_diff']\n",
    "awaydf['team_diff'] = -1*awaydf['team_diff']\n",
    "awaydf['players_score_diff'] = -1*awaydf['players_score_diff']\n",
    "awaydf['bet_diff'] = -1*awaydf['bet_diff']\n",
    "df = pd.concat([homedf, awaydf], ignore_index=True)\n",
    "df.shape"
   ]
  },
  {
   "cell_type": "markdown",
   "id": "a3de2b25",
   "metadata": {},
   "source": [
    "Подберем возможные варианты коэффициентов букмекеров для будущих игр"
   ]
  },
  {
   "cell_type": "code",
   "execution_count": 13,
   "id": "1cdecc78",
   "metadata": {},
   "outputs": [],
   "source": [
    "X = df[['rating_diff', 'players_score_diff', 'team_diff', 'homestage']]\n",
    "Y = df['bet_diff']"
   ]
  },
  {
   "cell_type": "code",
   "execution_count": 14,
   "id": "83bff215",
   "metadata": {},
   "outputs": [],
   "source": [
    "test_split_index = int(X.shape[0]*0.7)\n",
    "X_train = X[:test_split_index]\n",
    "X_test = X[test_split_index:]\n",
    "Y_train = Y[:test_split_index]\n",
    "Y_test = Y[test_split_index:]"
   ]
  },
  {
   "cell_type": "code",
   "execution_count": 15,
   "id": "7f2dfef0",
   "metadata": {},
   "outputs": [],
   "source": [
    "model = LinearRegression()"
   ]
  },
  {
   "cell_type": "code",
   "execution_count": 16,
   "id": "c7ca999b",
   "metadata": {},
   "outputs": [
    {
     "data": {
      "text/html": [
       "<style>#sk-container-id-1 {color: black;}#sk-container-id-1 pre{padding: 0;}#sk-container-id-1 div.sk-toggleable {background-color: white;}#sk-container-id-1 label.sk-toggleable__label {cursor: pointer;display: block;width: 100%;margin-bottom: 0;padding: 0.3em;box-sizing: border-box;text-align: center;}#sk-container-id-1 label.sk-toggleable__label-arrow:before {content: \"▸\";float: left;margin-right: 0.25em;color: #696969;}#sk-container-id-1 label.sk-toggleable__label-arrow:hover:before {color: black;}#sk-container-id-1 div.sk-estimator:hover label.sk-toggleable__label-arrow:before {color: black;}#sk-container-id-1 div.sk-toggleable__content {max-height: 0;max-width: 0;overflow: hidden;text-align: left;background-color: #f0f8ff;}#sk-container-id-1 div.sk-toggleable__content pre {margin: 0.2em;color: black;border-radius: 0.25em;background-color: #f0f8ff;}#sk-container-id-1 input.sk-toggleable__control:checked~div.sk-toggleable__content {max-height: 200px;max-width: 100%;overflow: auto;}#sk-container-id-1 input.sk-toggleable__control:checked~label.sk-toggleable__label-arrow:before {content: \"▾\";}#sk-container-id-1 div.sk-estimator input.sk-toggleable__control:checked~label.sk-toggleable__label {background-color: #d4ebff;}#sk-container-id-1 div.sk-label input.sk-toggleable__control:checked~label.sk-toggleable__label {background-color: #d4ebff;}#sk-container-id-1 input.sk-hidden--visually {border: 0;clip: rect(1px 1px 1px 1px);clip: rect(1px, 1px, 1px, 1px);height: 1px;margin: -1px;overflow: hidden;padding: 0;position: absolute;width: 1px;}#sk-container-id-1 div.sk-estimator {font-family: monospace;background-color: #f0f8ff;border: 1px dotted black;border-radius: 0.25em;box-sizing: border-box;margin-bottom: 0.5em;}#sk-container-id-1 div.sk-estimator:hover {background-color: #d4ebff;}#sk-container-id-1 div.sk-parallel-item::after {content: \"\";width: 100%;border-bottom: 1px solid gray;flex-grow: 1;}#sk-container-id-1 div.sk-label:hover label.sk-toggleable__label {background-color: #d4ebff;}#sk-container-id-1 div.sk-serial::before {content: \"\";position: absolute;border-left: 1px solid gray;box-sizing: border-box;top: 0;bottom: 0;left: 50%;z-index: 0;}#sk-container-id-1 div.sk-serial {display: flex;flex-direction: column;align-items: center;background-color: white;padding-right: 0.2em;padding-left: 0.2em;position: relative;}#sk-container-id-1 div.sk-item {position: relative;z-index: 1;}#sk-container-id-1 div.sk-parallel {display: flex;align-items: stretch;justify-content: center;background-color: white;position: relative;}#sk-container-id-1 div.sk-item::before, #sk-container-id-1 div.sk-parallel-item::before {content: \"\";position: absolute;border-left: 1px solid gray;box-sizing: border-box;top: 0;bottom: 0;left: 50%;z-index: -1;}#sk-container-id-1 div.sk-parallel-item {display: flex;flex-direction: column;z-index: 1;position: relative;background-color: white;}#sk-container-id-1 div.sk-parallel-item:first-child::after {align-self: flex-end;width: 50%;}#sk-container-id-1 div.sk-parallel-item:last-child::after {align-self: flex-start;width: 50%;}#sk-container-id-1 div.sk-parallel-item:only-child::after {width: 0;}#sk-container-id-1 div.sk-dashed-wrapped {border: 1px dashed gray;margin: 0 0.4em 0.5em 0.4em;box-sizing: border-box;padding-bottom: 0.4em;background-color: white;}#sk-container-id-1 div.sk-label label {font-family: monospace;font-weight: bold;display: inline-block;line-height: 1.2em;}#sk-container-id-1 div.sk-label-container {text-align: center;}#sk-container-id-1 div.sk-container {/* jupyter's `normalize.less` sets `[hidden] { display: none; }` but bootstrap.min.css set `[hidden] { display: none !important; }` so we also need the `!important` here to be able to override the default hidden behavior on the sphinx rendered scikit-learn.org. See: https://github.com/scikit-learn/scikit-learn/issues/21755 */display: inline-block !important;position: relative;}#sk-container-id-1 div.sk-text-repr-fallback {display: none;}</style><div id=\"sk-container-id-1\" class=\"sk-top-container\"><div class=\"sk-text-repr-fallback\"><pre>LinearRegression()</pre><b>In a Jupyter environment, please rerun this cell to show the HTML representation or trust the notebook. <br />On GitHub, the HTML representation is unable to render, please try loading this page with nbviewer.org.</b></div><div class=\"sk-container\" hidden><div class=\"sk-item\"><div class=\"sk-estimator sk-toggleable\"><input class=\"sk-toggleable__control sk-hidden--visually\" id=\"sk-estimator-id-1\" type=\"checkbox\" checked><label for=\"sk-estimator-id-1\" class=\"sk-toggleable__label sk-toggleable__label-arrow\">LinearRegression</label><div class=\"sk-toggleable__content\"><pre>LinearRegression()</pre></div></div></div></div></div>"
      ],
      "text/plain": [
       "LinearRegression()"
      ]
     },
     "execution_count": 16,
     "metadata": {},
     "output_type": "execute_result"
    }
   ],
   "source": [
    "model.fit(X_train, Y_train)"
   ]
  },
  {
   "cell_type": "code",
   "execution_count": 17,
   "id": "bb6e6364",
   "metadata": {},
   "outputs": [
    {
     "data": {
      "text/plain": [
       "array([-0.7082649 , -0.21095404, -0.19052418, ..., -0.62591264,\n",
       "       -0.17479556, -0.30736153])"
      ]
     },
     "execution_count": 17,
     "metadata": {},
     "output_type": "execute_result"
    }
   ],
   "source": [
    "Y_predicted = model.predict(X_test)\n",
    "Y_predicted"
   ]
  },
  {
   "cell_type": "code",
   "execution_count": 18,
   "id": "4bac61dc",
   "metadata": {},
   "outputs": [
    {
     "name": "stdout",
     "output_type": "stream",
     "text": [
      "MSE: 0.03\n",
      "MAE: 0.13\n",
      "R2: 0.80\n"
     ]
    }
   ],
   "source": [
    "print('MSE: %.2f' % mean_squared_error(Y_test, Y_predicted))\n",
    "print('MAE: %.2f' % mean_absolute_error(Y_test, Y_predicted))\n",
    "print('R2: %.2f' % r2_score(Y_test, Y_predicted))"
   ]
  },
  {
   "cell_type": "markdown",
   "id": "17ca801f",
   "metadata": {},
   "source": [
    "Вероятность очень высокая, теперь, используя эту модель, мы можем заполнить bet_diff для прогноза "
   ]
  },
  {
   "cell_type": "code",
   "execution_count": 19,
   "id": "7f459967",
   "metadata": {},
   "outputs": [],
   "source": [
    "predicted_bets=model.predict(cross_joined_df[['rating_diff', 'players_score_diff', 'team_diff', 'homestage']])\n",
    "cross_joined_df['bet_diff']=predicted_bets"
   ]
  },
  {
   "cell_type": "code",
   "execution_count": 20,
   "id": "8a40e7e6",
   "metadata": {},
   "outputs": [
    {
     "name": "stdout",
     "output_type": "stream",
     "text": [
      "<class 'pandas.core.frame.DataFrame'>\n",
      "RangeIndex: 13064 entries, 0 to 13063\n",
      "Data columns (total 9 columns):\n",
      " #   Column              Non-Null Count  Dtype  \n",
      "---  ------              --------------  -----  \n",
      " 0   country_name        13064 non-null  object \n",
      " 1   league_name         13064 non-null  object \n",
      " 2   team_long_name      13064 non-null  object \n",
      " 3   team_short_name     13064 non-null  object \n",
      " 4   rating_diff         13064 non-null  float64\n",
      " 5   players_score_diff  13064 non-null  float64\n",
      " 6   team_diff           13064 non-null  float64\n",
      " 7   homestage           13064 non-null  int64  \n",
      " 8   bet_diff            13064 non-null  float64\n",
      "dtypes: float64(4), int64(1), object(4)\n",
      "memory usage: 918.7+ KB\n"
     ]
    }
   ],
   "source": [
    "cross_joined_df.info()"
   ]
  },
  {
   "cell_type": "code",
   "execution_count": 22,
   "id": "55f9ece4",
   "metadata": {},
   "outputs": [],
   "source": [
    "cross_joined_df[['country_name', 'league_name',\n",
    "       'team_long_name', 'team_short_name', 'rating_diff', 'players_score_diff', 'team_diff', 'bet_diff', 'homestage']].to_csv(\n",
    "    './src/new_variables.csv', index=False)"
   ]
  }
 ],
 "metadata": {
  "kernelspec": {
   "display_name": "Python 3 (ipykernel)",
   "language": "python",
   "name": "python3"
  },
  "language_info": {
   "codemirror_mode": {
    "name": "ipython",
    "version": 3
   },
   "file_extension": ".py",
   "mimetype": "text/x-python",
   "name": "python",
   "nbconvert_exporter": "python",
   "pygments_lexer": "ipython3",
   "version": "3.11.5"
  }
 },
 "nbformat": 4,
 "nbformat_minor": 5
}
