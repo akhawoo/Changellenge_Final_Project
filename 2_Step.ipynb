{
 "cells": [
  {
   "metadata": {},
   "cell_type": "markdown",
   "source": "## Imports and Defines",
   "id": "e2e5b16734e97ecd"
  },
  {
   "metadata": {
    "ExecuteTime": {
     "end_time": "2024-05-04T19:45:22.527370Z",
     "start_time": "2024-05-04T19:45:22.520931Z"
    }
   },
   "cell_type": "code",
   "source": [
    "import pandas as pd\n",
    "import warnings\n",
    "\n",
    "warnings.filterwarnings('ignore')"
   ],
   "id": "initial_id",
   "outputs": [],
   "execution_count": 47
  },
  {
   "metadata": {
    "ExecuteTime": {
     "end_time": "2024-05-04T19:45:31.966773Z",
     "start_time": "2024-05-04T19:45:22.817880Z"
    }
   },
   "cell_type": "code",
   "source": [
    "teams = pd.read_csv('./src/teams.csv')\n",
    "players = pd.read_csv('./src/players.csv')\n",
    "matches = pd.read_csv('./src/matches.csv')"
   ],
   "id": "38791960345c2d07",
   "outputs": [],
   "execution_count": 48
  },
  {
   "metadata": {},
   "cell_type": "markdown",
   "source": "## Players Dataset",
   "id": "351c5d8a69d901bc"
  },
  {
   "metadata": {},
   "cell_type": "markdown",
   "source": "Посмотрим на данные в таблице Players",
   "id": "e1c3cc41a323862f"
  },
  {
   "metadata": {
    "ExecuteTime": {
     "end_time": "2024-05-04T19:45:32.280192Z",
     "start_time": "2024-05-04T19:45:31.976796Z"
    }
   },
   "cell_type": "code",
   "source": "players.sort_values('gk_reflexes', ascending=False).head(4)",
   "id": "9d759bd6dd1bcbcf",
   "outputs": [
    {
     "data": {
      "text/plain": [
       "        player_api_id     player_name             birthday  height  weight  \\\n",
       "72609           30657   Iker Casillas  1981-05-20 00:00:00  185.42     185   \n",
       "72608           30657   Iker Casillas  1981-05-20 00:00:00  185.42     185   \n",
       "72606           30657   Iker Casillas  1981-05-20 00:00:00  185.42     185   \n",
       "159247          24503  Sebastian Frey  1980-03-18 00:00:00  190.50     198   \n",
       "\n",
       "                       date  overall_rating  potential preferred_foot  \\\n",
       "72609   2008-08-30 00:00:00            91.0       92.0           left   \n",
       "72608   2009-02-22 00:00:00            91.0       92.0           left   \n",
       "72606   2010-02-22 00:00:00            90.0       92.0           left   \n",
       "159247  2007-08-30 00:00:00            82.0       85.0          right   \n",
       "\n",
       "       attacking_work_rate  ... vision  penalties  marking  standing_tackle  \\\n",
       "72609               medium  ...   51.0       94.0     22.0             22.0   \n",
       "72608               medium  ...   51.0       94.0     22.0             22.0   \n",
       "72606               medium  ...   51.0       94.0     22.0             22.0   \n",
       "159247              medium  ...   52.0       82.0     21.0             21.0   \n",
       "\n",
       "        sliding_tackle  gk_diving  gk_handling  gk_kicking  gk_positioning  \\\n",
       "72609              9.0       94.0         88.0        71.0            90.0   \n",
       "72608              9.0       94.0         88.0        74.0            90.0   \n",
       "72606              9.0       93.0         87.0        74.0            91.0   \n",
       "159247            34.0       84.0         75.0        83.0            86.0   \n",
       "\n",
       "        gk_reflexes  \n",
       "72609          96.0  \n",
       "72608          96.0  \n",
       "72606          94.0  \n",
       "159247         94.0  \n",
       "\n",
       "[4 rows x 44 columns]"
      ],
      "text/html": [
       "<div>\n",
       "<style scoped>\n",
       "    .dataframe tbody tr th:only-of-type {\n",
       "        vertical-align: middle;\n",
       "    }\n",
       "\n",
       "    .dataframe tbody tr th {\n",
       "        vertical-align: top;\n",
       "    }\n",
       "\n",
       "    .dataframe thead th {\n",
       "        text-align: right;\n",
       "    }\n",
       "</style>\n",
       "<table border=\"1\" class=\"dataframe\">\n",
       "  <thead>\n",
       "    <tr style=\"text-align: right;\">\n",
       "      <th></th>\n",
       "      <th>player_api_id</th>\n",
       "      <th>player_name</th>\n",
       "      <th>birthday</th>\n",
       "      <th>height</th>\n",
       "      <th>weight</th>\n",
       "      <th>date</th>\n",
       "      <th>overall_rating</th>\n",
       "      <th>potential</th>\n",
       "      <th>preferred_foot</th>\n",
       "      <th>attacking_work_rate</th>\n",
       "      <th>...</th>\n",
       "      <th>vision</th>\n",
       "      <th>penalties</th>\n",
       "      <th>marking</th>\n",
       "      <th>standing_tackle</th>\n",
       "      <th>sliding_tackle</th>\n",
       "      <th>gk_diving</th>\n",
       "      <th>gk_handling</th>\n",
       "      <th>gk_kicking</th>\n",
       "      <th>gk_positioning</th>\n",
       "      <th>gk_reflexes</th>\n",
       "    </tr>\n",
       "  </thead>\n",
       "  <tbody>\n",
       "    <tr>\n",
       "      <th>72609</th>\n",
       "      <td>30657</td>\n",
       "      <td>Iker Casillas</td>\n",
       "      <td>1981-05-20 00:00:00</td>\n",
       "      <td>185.42</td>\n",
       "      <td>185</td>\n",
       "      <td>2008-08-30 00:00:00</td>\n",
       "      <td>91.0</td>\n",
       "      <td>92.0</td>\n",
       "      <td>left</td>\n",
       "      <td>medium</td>\n",
       "      <td>...</td>\n",
       "      <td>51.0</td>\n",
       "      <td>94.0</td>\n",
       "      <td>22.0</td>\n",
       "      <td>22.0</td>\n",
       "      <td>9.0</td>\n",
       "      <td>94.0</td>\n",
       "      <td>88.0</td>\n",
       "      <td>71.0</td>\n",
       "      <td>90.0</td>\n",
       "      <td>96.0</td>\n",
       "    </tr>\n",
       "    <tr>\n",
       "      <th>72608</th>\n",
       "      <td>30657</td>\n",
       "      <td>Iker Casillas</td>\n",
       "      <td>1981-05-20 00:00:00</td>\n",
       "      <td>185.42</td>\n",
       "      <td>185</td>\n",
       "      <td>2009-02-22 00:00:00</td>\n",
       "      <td>91.0</td>\n",
       "      <td>92.0</td>\n",
       "      <td>left</td>\n",
       "      <td>medium</td>\n",
       "      <td>...</td>\n",
       "      <td>51.0</td>\n",
       "      <td>94.0</td>\n",
       "      <td>22.0</td>\n",
       "      <td>22.0</td>\n",
       "      <td>9.0</td>\n",
       "      <td>94.0</td>\n",
       "      <td>88.0</td>\n",
       "      <td>74.0</td>\n",
       "      <td>90.0</td>\n",
       "      <td>96.0</td>\n",
       "    </tr>\n",
       "    <tr>\n",
       "      <th>72606</th>\n",
       "      <td>30657</td>\n",
       "      <td>Iker Casillas</td>\n",
       "      <td>1981-05-20 00:00:00</td>\n",
       "      <td>185.42</td>\n",
       "      <td>185</td>\n",
       "      <td>2010-02-22 00:00:00</td>\n",
       "      <td>90.0</td>\n",
       "      <td>92.0</td>\n",
       "      <td>left</td>\n",
       "      <td>medium</td>\n",
       "      <td>...</td>\n",
       "      <td>51.0</td>\n",
       "      <td>94.0</td>\n",
       "      <td>22.0</td>\n",
       "      <td>22.0</td>\n",
       "      <td>9.0</td>\n",
       "      <td>93.0</td>\n",
       "      <td>87.0</td>\n",
       "      <td>74.0</td>\n",
       "      <td>91.0</td>\n",
       "      <td>94.0</td>\n",
       "    </tr>\n",
       "    <tr>\n",
       "      <th>159247</th>\n",
       "      <td>24503</td>\n",
       "      <td>Sebastian Frey</td>\n",
       "      <td>1980-03-18 00:00:00</td>\n",
       "      <td>190.50</td>\n",
       "      <td>198</td>\n",
       "      <td>2007-08-30 00:00:00</td>\n",
       "      <td>82.0</td>\n",
       "      <td>85.0</td>\n",
       "      <td>right</td>\n",
       "      <td>medium</td>\n",
       "      <td>...</td>\n",
       "      <td>52.0</td>\n",
       "      <td>82.0</td>\n",
       "      <td>21.0</td>\n",
       "      <td>21.0</td>\n",
       "      <td>34.0</td>\n",
       "      <td>84.0</td>\n",
       "      <td>75.0</td>\n",
       "      <td>83.0</td>\n",
       "      <td>86.0</td>\n",
       "      <td>94.0</td>\n",
       "    </tr>\n",
       "  </tbody>\n",
       "</table>\n",
       "<p>4 rows × 44 columns</p>\n",
       "</div>"
      ]
     },
     "execution_count": 49,
     "metadata": {},
     "output_type": "execute_result"
    }
   ],
   "execution_count": 49
  },
  {
   "metadata": {
    "ExecuteTime": {
     "end_time": "2024-05-04T19:45:32.512030Z",
     "start_time": "2024-05-04T19:45:32.287409Z"
    }
   },
   "cell_type": "code",
   "source": "players.info()",
   "id": "32d36b3897a8d4aa",
   "outputs": [
    {
     "name": "stdout",
     "output_type": "stream",
     "text": [
      "<class 'pandas.core.frame.DataFrame'>\n",
      "RangeIndex: 183978 entries, 0 to 183977\n",
      "Data columns (total 44 columns):\n",
      " #   Column               Non-Null Count   Dtype  \n",
      "---  ------               --------------   -----  \n",
      " 0   player_api_id        183978 non-null  int64  \n",
      " 1   player_name          183978 non-null  object \n",
      " 2   birthday             183978 non-null  object \n",
      " 3   height               183978 non-null  float64\n",
      " 4   weight               183978 non-null  int64  \n",
      " 5   date                 183978 non-null  object \n",
      " 6   overall_rating       183142 non-null  float64\n",
      " 7   potential            183142 non-null  float64\n",
      " 8   preferred_foot       183142 non-null  object \n",
      " 9   attacking_work_rate  177109 non-null  object \n",
      " 10  defensive_work_rate  183142 non-null  object \n",
      " 11  crossing             183142 non-null  float64\n",
      " 12  finishing            183142 non-null  float64\n",
      " 13  heading_accuracy     183142 non-null  float64\n",
      " 14  short_passing        183142 non-null  float64\n",
      " 15  volleys              181265 non-null  float64\n",
      " 16  dribbling            183142 non-null  float64\n",
      " 17  curve                181265 non-null  float64\n",
      " 18  free_kick_accuracy   183142 non-null  float64\n",
      " 19  long_passing         183142 non-null  float64\n",
      " 20  ball_control         183142 non-null  float64\n",
      " 21  acceleration         183142 non-null  float64\n",
      " 22  sprint_speed         183142 non-null  float64\n",
      " 23  agility              181265 non-null  float64\n",
      " 24  reactions            183142 non-null  float64\n",
      " 25  balance              181265 non-null  float64\n",
      " 26  shot_power           183142 non-null  float64\n",
      " 27  jumping              181265 non-null  float64\n",
      " 28  stamina              183142 non-null  float64\n",
      " 29  strength             183142 non-null  float64\n",
      " 30  long_shots           183142 non-null  float64\n",
      " 31  aggression           183142 non-null  float64\n",
      " 32  interceptions        183142 non-null  float64\n",
      " 33  positioning          183142 non-null  float64\n",
      " 34  vision               181265 non-null  float64\n",
      " 35  penalties            183142 non-null  float64\n",
      " 36  marking              183142 non-null  float64\n",
      " 37  standing_tackle      183142 non-null  float64\n",
      " 38  sliding_tackle       181265 non-null  float64\n",
      " 39  gk_diving            183142 non-null  float64\n",
      " 40  gk_handling          183142 non-null  float64\n",
      " 41  gk_kicking           183142 non-null  float64\n",
      " 42  gk_positioning       183142 non-null  float64\n",
      " 43  gk_reflexes          183142 non-null  float64\n",
      "dtypes: float64(36), int64(2), object(6)\n",
      "memory usage: 61.8+ MB\n"
     ]
    }
   ],
   "execution_count": 50
  },
  {
   "metadata": {},
   "cell_type": "markdown",
   "source": "Приведем типы данных",
   "id": "dc84b44dc28bff19"
  },
  {
   "metadata": {
    "ExecuteTime": {
     "end_time": "2024-05-04T19:45:32.675784Z",
     "start_time": "2024-05-04T19:45:32.518614Z"
    }
   },
   "cell_type": "code",
   "source": [
    "players['date'] = players['date'].astype('datetime64[ns]')\n",
    "players['birthday'] = players['birthday'].astype('datetime64[ns]')"
   ],
   "id": "1b73ac3c8ca4067a",
   "outputs": [],
   "execution_count": 51
  },
  {
   "metadata": {},
   "cell_type": "markdown",
   "source": "Оставим только самые последние данные по каждому игроку",
   "id": "55ccb4b52ce82232"
  },
  {
   "metadata": {
    "ExecuteTime": {
     "end_time": "2024-05-04T19:45:32.831743Z",
     "start_time": "2024-05-04T19:45:32.683688Z"
    }
   },
   "cell_type": "code",
   "source": [
    "players['rnk'] = players.groupby('player_api_id')['date'].rank(method='first', ascending=False)\n",
    "players.query('rnk == 1', inplace=True)"
   ],
   "id": "64ca35151c72459c",
   "outputs": [],
   "execution_count": 52
  },
  {
   "metadata": {},
   "cell_type": "markdown",
   "source": [
    "Удалим категориальные параметры: preferred_foot, attacking_work_rate, defensive_work_rate.\n",
    "Удалим параметры, которые не сможем использовать "
   ],
   "id": "941a40daf254b422"
  },
  {
   "metadata": {
    "ExecuteTime": {
     "end_time": "2024-05-04T19:46:04.131022Z",
     "start_time": "2024-05-04T19:46:04.118978Z"
    }
   },
   "cell_type": "code",
   "source": [
    "players.drop(columns=['preferred_foot', 'attacking_work_rate', 'defensive_work_rate', 'height', 'weight', 'rnk'],\n",
    "             inplace=True)"
   ],
   "id": "7629d038c6bf3980",
   "outputs": [],
   "execution_count": 55
  },
  {
   "metadata": {},
   "cell_type": "markdown",
   "source": "Проверим параметры на пропущенные значения",
   "id": "c0e0040c6da2d804"
  },
  {
   "metadata": {
    "ExecuteTime": {
     "end_time": "2024-05-04T19:53:23.222503Z",
     "start_time": "2024-05-04T19:53:23.202892Z"
    }
   },
   "cell_type": "code",
   "source": [
    "missing_players_values = players.isnull().sum()\n",
    "missing_players_percentage = (missing_players_values / players.shape[0]) * 100\n",
    "missing_players_percentage.sort_values(ascending=False)"
   ],
   "id": "1dd0100df073668a",
   "outputs": [
    {
     "data": {
      "text/plain": [
       "volleys               4.321881\n",
       "sliding_tackle        4.321881\n",
       "agility               4.321881\n",
       "curve                 4.321881\n",
       "vision                4.321881\n",
       "jumping               4.321881\n",
       "balance               4.321881\n",
       "standing_tackle       0.000000\n",
       "marking               0.000000\n",
       "penalties             0.000000\n",
       "gk_diving             0.000000\n",
       "gk_handling           0.000000\n",
       "gk_kicking            0.000000\n",
       "positioning           0.000000\n",
       "interceptions         0.000000\n",
       "aggression            0.000000\n",
       "long_shots            0.000000\n",
       "strength              0.000000\n",
       "gk_positioning        0.000000\n",
       "stamina               0.000000\n",
       "player_api_id         0.000000\n",
       "reactions             0.000000\n",
       "shot_power            0.000000\n",
       "heading_accuracy      0.000000\n",
       "birthday              0.000000\n",
       "date                  0.000000\n",
       "overall_rating        0.000000\n",
       "potential             0.000000\n",
       "crossing              0.000000\n",
       "finishing             0.000000\n",
       "short_passing         0.000000\n",
       "player_name           0.000000\n",
       "dribbling             0.000000\n",
       "free_kick_accuracy    0.000000\n",
       "long_passing          0.000000\n",
       "ball_control          0.000000\n",
       "acceleration          0.000000\n",
       "sprint_speed          0.000000\n",
       "gk_reflexes           0.000000\n",
       "dtype: float64"
      ]
     },
     "execution_count": 62,
     "metadata": {},
     "output_type": "execute_result"
    }
   ],
   "execution_count": 62
  },
  {
   "metadata": {},
   "cell_type": "markdown",
   "source": "Пропусков менее 5% => Заполним пропуски средним значением.",
   "id": "b93308c2e4a62461"
  },
  {
   "metadata": {
    "ExecuteTime": {
     "end_time": "2024-05-04T20:00:28.598922Z",
     "start_time": "2024-05-04T20:00:28.571717Z"
    }
   },
   "cell_type": "code",
   "source": [
    "players_columns_to_fill = missing_players_percentage[missing_players_percentage > 0].index\n",
    "mean_players_values = players[players_columns_to_fill].mean()\n",
    "players[players_columns_to_fill] = players[missing_players_percentage[missing_players_percentage > 0].index].fillna(\n",
    "    mean_players_values)"
   ],
   "id": "6b2d428c36d2d5e7",
   "outputs": [],
   "execution_count": 68
  },
  {
   "metadata": {},
   "cell_type": "markdown",
   "source": "## Teams Dataset",
   "id": "84c5d54709e76b6e"
  },
  {
   "metadata": {},
   "cell_type": "code",
   "source": [
    "missing_teams_values = teams.isnull().sum()\n",
    "missing_teams_percentage = (missing_teams_values / teams.shape[0]) * 100\n",
    "missing_teams_percentage.sort_values(ascending=False)"
   ],
   "id": "cb2961275e959c34",
   "outputs": [],
   "execution_count": null
  },
  {
   "metadata": {},
   "cell_type": "markdown",
   "source": "Удалим атрибуты, содержащие > 60% пропусков. Остальные атрибуты пропусков не имеют.",
   "id": "b20f834835f31ee8"
  },
  {
   "metadata": {},
   "cell_type": "code",
   "source": [
    "teams_columns_to_drop = missing_teams_percentage[missing_teams_percentage > 60].index\n",
    "teams.drop(columns=teams_columns_to_drop, inplace=True)"
   ],
   "id": "cbcf4e1911088197",
   "outputs": [],
   "execution_count": null
  },
  {
   "metadata": {},
   "cell_type": "markdown",
   "source": "## Matches Dataset",
   "id": "2d6793c201a63a61"
  },
  {
   "metadata": {},
   "cell_type": "code",
   "source": [
    "missing_matches_values = matches.isnull().sum()\n",
    "missing_matches_percentage = (missing_matches_values / matches.shape[0]) * 100\n",
    "missing_matches_percentage.sort_values(ascending=False)"
   ],
   "id": "f13069aa5f18691d",
   "outputs": [],
   "execution_count": null
  },
  {
   "metadata": {},
   "cell_type": "markdown",
   "source": "Имеем очень много пропусков в атрибутах. Удалим атрибуты с более, чем 30% пропусков.",
   "id": "196d98eeab9cc09"
  },
  {
   "metadata": {},
   "cell_type": "code",
   "source": [
    "matches_columns_to_drop = missing_matches_percentage[missing_matches_percentage > 30].index\n",
    "matches.drop(columns=matches_columns_to_drop, inplace=True)"
   ],
   "id": "542685d38c1e8173",
   "outputs": [],
   "execution_count": null
  },
  {
   "metadata": {},
   "cell_type": "code",
   "source": "",
   "id": "f96c428364fdaa74",
   "outputs": [],
   "execution_count": null
  }
 ],
 "metadata": {
  "kernelspec": {
   "display_name": "Python 3",
   "language": "python",
   "name": "python3"
  },
  "language_info": {
   "codemirror_mode": {
    "name": "ipython",
    "version": 2
   },
   "file_extension": ".py",
   "mimetype": "text/x-python",
   "name": "python",
   "nbconvert_exporter": "python",
   "pygments_lexer": "ipython2",
   "version": "2.7.6"
  }
 },
 "nbformat": 4,
 "nbformat_minor": 5
}
