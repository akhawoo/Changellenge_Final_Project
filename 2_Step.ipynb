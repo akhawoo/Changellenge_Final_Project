{
 "cells": [
  {
   "metadata": {},
   "cell_type": "markdown",
   "source": "## Imports and Defines",
   "id": "e2e5b16734e97ecd"
  },
  {
   "metadata": {
    "ExecuteTime": {
     "end_time": "2024-05-04T15:58:28.214643Z",
     "start_time": "2024-05-04T15:58:25.589489Z"
    }
   },
   "cell_type": "code",
   "source": [
    "import pandas as pd\n",
    "import warnings\n",
    "\n",
    "warnings.filterwarnings('ignore')"
   ],
   "id": "initial_id",
   "outputs": [],
   "execution_count": 1
  },
  {
   "metadata": {
    "ExecuteTime": {
     "end_time": "2024-05-04T15:59:24.690992Z",
     "start_time": "2024-05-04T15:59:21.015627Z"
    }
   },
   "cell_type": "code",
   "source": [
    "teams = pd.read_csv('./src/teams.csv')\n",
    "players = pd.read_csv('./src/players.csv')\n",
    "matches = pd.read_csv('./src/matches.csv')"
   ],
   "id": "38791960345c2d07",
   "outputs": [],
   "execution_count": 3
  },
  {
   "metadata": {},
   "cell_type": "markdown",
   "source": "## Players Dataset",
   "id": "351c5d8a69d901bc"
  },
  {
   "metadata": {
    "ExecuteTime": {
     "end_time": "2024-05-04T16:09:01.642398Z",
     "start_time": "2024-05-04T16:09:01.588755Z"
    }
   },
   "cell_type": "code",
   "source": [
    "missing_players_values = players.isnull().sum()\n",
    "missing_players_percentage = (missing_players_values / players.shape[0]) * 100\n",
    "missing_players_percentage.sort_values(ascending=False)"
   ],
   "id": "1dd0100df073668a",
   "outputs": [
    {
     "data": {
      "text/plain": [
       "attacking_work_rate    3.733599\n",
       "agility                1.474633\n",
       "balance                1.474633\n",
       "jumping                1.474633\n",
       "sliding_tackle         1.474633\n",
       "curve                  1.474633\n",
       "vision                 1.474633\n",
       "volleys                1.474633\n",
       "aggression             0.454402\n",
       "shot_power             0.454402\n",
       "stamina                0.454402\n",
       "strength               0.454402\n",
       "long_shots             0.454402\n",
       "sprint_speed           0.454402\n",
       "interceptions          0.454402\n",
       "reactions              0.454402\n",
       "penalties              0.454402\n",
       "marking                0.454402\n",
       "standing_tackle        0.454402\n",
       "gk_diving              0.454402\n",
       "gk_handling            0.454402\n",
       "gk_kicking             0.454402\n",
       "gk_positioning         0.454402\n",
       "positioning            0.454402\n",
       "gk_reflexes            0.454402\n",
       "crossing               0.454402\n",
       "ball_control           0.454402\n",
       "long_passing           0.454402\n",
       "free_kick_accuracy     0.454402\n",
       "dribbling              0.454402\n",
       "short_passing          0.454402\n",
       "heading_accuracy       0.454402\n",
       "finishing              0.454402\n",
       "acceleration           0.454402\n",
       "defensive_work_rate    0.454402\n",
       "preferred_foot         0.454402\n",
       "potential              0.454402\n",
       "overall_rating         0.454402\n",
       "height                 0.000000\n",
       "birthday               0.000000\n",
       "player_name            0.000000\n",
       "weight                 0.000000\n",
       "date                   0.000000\n",
       "player_api_id          0.000000\n",
       "dtype: float64"
      ]
     },
     "execution_count": 7,
     "metadata": {},
     "output_type": "execute_result"
    }
   ],
   "execution_count": 7
  },
  {
   "metadata": {},
   "cell_type": "markdown",
   "source": "Пропусков менее 4%. Заполним пропуски средним значением по возрасту.",
   "id": "b93308c2e4a62461"
  },
  {
   "metadata": {},
   "cell_type": "markdown",
   "source": "## Teams Dataset",
   "id": "84c5d54709e76b6e"
  },
  {
   "metadata": {
    "ExecuteTime": {
     "end_time": "2024-05-04T16:27:48.021165Z",
     "start_time": "2024-05-04T16:27:48.008623Z"
    }
   },
   "cell_type": "code",
   "source": [
    "missing_teams_values = teams.isnull().sum()\n",
    "missing_teams_percentage = (missing_teams_values / teams.shape[0]) * 100\n",
    "missing_teams_percentage.sort_values(ascending=False)"
   ],
   "id": "cb2961275e959c34",
   "outputs": [
    {
     "data": {
      "text/plain": [
       "team_api_id                       0.0\n",
       "team_long_name                    0.0\n",
       "buildUpPlayPassing                0.0\n",
       "buildUpPlayPassingClass           0.0\n",
       "buildUpPlayPositioningClass       0.0\n",
       "buildUpPlaySpeed                  0.0\n",
       "buildUpPlaySpeedClass             0.0\n",
       "chanceCreationCrossing            0.0\n",
       "chanceCreationCrossingClass       0.0\n",
       "chanceCreationPassing             0.0\n",
       "chanceCreationPassingClass        0.0\n",
       "chanceCreationPositioningClass    0.0\n",
       "chanceCreationShooting            0.0\n",
       "chanceCreationShootingClass       0.0\n",
       "date                              0.0\n",
       "defenceAggression                 0.0\n",
       "defenceAggressionClass            0.0\n",
       "defenceDefenderLineClass          0.0\n",
       "defencePressure                   0.0\n",
       "defencePressureClass              0.0\n",
       "defenceTeamWidth                  0.0\n",
       "defenceTeamWidthClass             0.0\n",
       "team_short_name                   0.0\n",
       "buildUpPlayDribblingClass         0.0\n",
       "dtype: float64"
      ]
     },
     "execution_count": 13,
     "metadata": {},
     "output_type": "execute_result"
    }
   ],
   "execution_count": 13
  },
  {
   "metadata": {},
   "cell_type": "markdown",
   "source": "Удалим атрибуты, содержащие > 60% пропусков. Остальные атрибуты пропусков не имеют.",
   "id": "b20f834835f31ee8"
  },
  {
   "metadata": {
    "ExecuteTime": {
     "end_time": "2024-05-04T16:27:36.747807Z",
     "start_time": "2024-05-04T16:27:36.741366Z"
    }
   },
   "cell_type": "code",
   "source": [
    "teams_columns_to_drop = missing_teams_percentage[missing_teams_percentage > 60].index\n",
    "teams.drop(columns=teams_columns_to_drop, inplace=True)"
   ],
   "id": "cbcf4e1911088197",
   "outputs": [],
   "execution_count": 12
  },
  {
   "metadata": {},
   "cell_type": "markdown",
   "source": "## Matches Dataset",
   "id": "2d6793c201a63a61"
  },
  {
   "metadata": {
    "ExecuteTime": {
     "end_time": "2024-05-04T16:34:50.073810Z",
     "start_time": "2024-05-04T16:34:50.056526Z"
    }
   },
   "cell_type": "code",
   "source": [
    "missing_matches_values = matches.isnull().sum()\n",
    "missing_matches_percentage = (missing_matches_values / matches.shape[0]) * 100\n",
    "missing_matches_percentage.sort_values(ascending=False)"
   ],
   "id": "f13069aa5f18691d",
   "outputs": [
    {
     "data": {
      "text/plain": [
       "IWD            13.314600\n",
       "IWH            13.314600\n",
       "IWA            13.314600\n",
       "LBA            13.176027\n",
       "LBD            13.176027\n",
       "                 ...    \n",
       "date            0.000000\n",
       "stage           0.000000\n",
       "season          0.000000\n",
       "league_id       0.000000\n",
       "league_name     0.000000\n",
       "Length: 97, dtype: float64"
      ]
     },
     "execution_count": 16,
     "metadata": {},
     "output_type": "execute_result"
    }
   ],
   "execution_count": 16
  },
  {
   "metadata": {},
   "cell_type": "markdown",
   "source": "Имеем очень много пропусков в атрибутах. Удалим атрибуты с более 30% пропусков.",
   "id": "196d98eeab9cc09"
  },
  {
   "metadata": {
    "ExecuteTime": {
     "end_time": "2024-05-04T16:34:45.025735Z",
     "start_time": "2024-05-04T16:34:44.953751Z"
    }
   },
   "cell_type": "code",
   "source": [
    "matches_columns_to_drop = missing_matches_percentage[missing_matches_percentage > 30].index\n",
    "matches.drop(columns=matches_columns_to_drop, inplace=True)"
   ],
   "id": "542685d38c1e8173",
   "outputs": [],
   "execution_count": 15
  },
  {
   "metadata": {},
   "cell_type": "code",
   "outputs": [],
   "execution_count": null,
   "source": "",
   "id": "f96c428364fdaa74"
  }
 ],
 "metadata": {
  "kernelspec": {
   "display_name": "Python 3",
   "language": "python",
   "name": "python3"
  },
  "language_info": {
   "codemirror_mode": {
    "name": "ipython",
    "version": 2
   },
   "file_extension": ".py",
   "mimetype": "text/x-python",
   "name": "python",
   "nbconvert_exporter": "python",
   "pygments_lexer": "ipython2",
   "version": "2.7.6"
  }
 },
 "nbformat": 4,
 "nbformat_minor": 5
}
