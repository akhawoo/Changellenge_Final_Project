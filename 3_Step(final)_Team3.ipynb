{
 "cells": [
  {
   "cell_type": "code",
   "execution_count": 35,
   "id": "9ef7cebc1af265a0",
   "metadata": {
    "ExecuteTime": {
     "end_time": "2024-05-12T12:20:57.541988Z",
     "start_time": "2024-05-12T12:20:57.535638Z"
    }
   },
   "outputs": [],
   "source": [
    "import pandas as pd\n",
    "import numpy as np\n",
    "\n",
    "import warnings\n",
    "warnings.filterwarnings(\"ignore\")\n",
    "\n",
    "from sklearn.metrics import accuracy_score, precision_score, recall_score\n",
    "from sklearn.linear_model import LogisticRegression"
   ]
  },
  {
   "cell_type": "code",
   "execution_count": 36,
   "id": "25f5880af6973a21",
   "metadata": {
    "ExecuteTime": {
     "end_time": "2024-05-12T12:20:57.673275Z",
     "start_time": "2024-05-12T12:20:57.611861Z"
    }
   },
   "outputs": [],
   "source": [
    "df = pd.read_csv('./src/final_dataset.csv')"
   ]
  },
  {
   "cell_type": "code",
   "execution_count": 37,
   "id": "8ade28d538ae3fa1",
   "metadata": {
    "ExecuteTime": {
     "end_time": "2024-05-12T12:20:57.683210Z",
     "start_time": "2024-05-12T12:20:57.676282Z"
    }
   },
   "outputs": [
    {
     "data": {
      "text/plain": [
       "Index(['date', 'season', 'country_name', 'league_name', 'match_api_id',\n",
       "       'team_long_name_home', 'team_short_name_home', 'team_long_name_away',\n",
       "       'team_short_name_away', 'match_result', 'home_players_average_rating',\n",
       "       'away_players_average_rating', 'home_players_average_score',\n",
       "       'away_players_average_score', 'home_team_score', 'away_team_score',\n",
       "       'avg_bet_home', 'avg_bet_away'],\n",
       "      dtype='object')"
      ]
     },
     "execution_count": 37,
     "metadata": {},
     "output_type": "execute_result"
    }
   ],
   "source": [
    "df.columns"
   ]
  },
  {
   "cell_type": "markdown",
   "id": "dc4617d0",
   "metadata": {},
   "source": [
    "Разделим каждую строчку на 2: одну для home_team, одну для away_team"
   ]
  },
  {
   "cell_type": "code",
   "execution_count": 38,
   "id": "d7e754e6",
   "metadata": {},
   "outputs": [],
   "source": [
    "df['rating_diff']=df['home_players_average_rating']-df['away_players_average_rating']\n",
    "df['players_score_diff']=df['home_players_average_score']-df['away_players_average_score']\n",
    "df['team_diff']=df['home_team_score']-df['away_team_score']\n",
    "df['bet_diff']=df['avg_bet_home']-df['avg_bet_away']"
   ]
  },
  {
   "cell_type": "code",
   "execution_count": 39,
   "id": "daa45503",
   "metadata": {},
   "outputs": [],
   "source": [
    "homedf=df[['date', 'season', 'country_name', 'league_name', 'match_api_id', 'team_long_name_home', 'team_short_name_home',\n",
    "    'match_result', 'rating_diff', 'players_score_diff', 'team_diff', 'bet_diff']]\n",
    "homedf.rename(columns = {'team_long_name_home':'team_long_name', 'team_short_name_home':'team_short_name'}, inplace = True )\n",
    "homedf['homestage']=1\n",
    "homedf['match_result'] = homedf['match_result'].apply(lambda x: 1 if x == 1 else 0)\n",
    "awaydf=df[['date', 'season', 'country_name', 'league_name', 'match_api_id', 'team_long_name_away', 'team_short_name_away',\n",
    "    'match_result', 'rating_diff', 'players_score_diff', 'team_diff', 'bet_diff']]\n",
    "awaydf.rename(columns = {'team_long_name_away':'team_long_name', 'team_short_name_away':'team_short_name'}, inplace = True )\n",
    "\n",
    "awaydf['homestage']=0\n",
    "awaydf['match_result'] = awaydf['match_result'].apply(lambda x: 1 if x == -1 else 0)\n",
    "awaydf['rating_diff'] = -1*awaydf['rating_diff']\n",
    "awaydf['team_diff'] = -1*awaydf['team_diff']\n",
    "awaydf['players_score_diff'] = -1*awaydf['players_score_diff']\n",
    "awaydf['bet_diff'] = -1*awaydf['bet_diff']\n",
    "df = pd.concat([homedf, awaydf], ignore_index=True)"
   ]
  },
  {
   "cell_type": "code",
   "execution_count": 48,
   "id": "4fd3aef4",
   "metadata": {},
   "outputs": [
    {
     "name": "stdout",
     "output_type": "stream",
     "text": [
      "<class 'pandas.core.frame.DataFrame'>\n",
      "RangeIndex: 29832 entries, 0 to 29831\n",
      "Data columns (total 13 columns):\n",
      " #   Column              Non-Null Count  Dtype  \n",
      "---  ------              --------------  -----  \n",
      " 0   date                29832 non-null  object \n",
      " 1   season              29832 non-null  object \n",
      " 2   country_name        29832 non-null  object \n",
      " 3   league_name         29832 non-null  object \n",
      " 4   match_api_id        29832 non-null  int64  \n",
      " 5   team_long_name      29832 non-null  object \n",
      " 6   team_short_name     29832 non-null  object \n",
      " 7   match_result        29832 non-null  int64  \n",
      " 8   rating_diff         29832 non-null  float64\n",
      " 9   players_score_diff  29832 non-null  float64\n",
      " 10  team_diff           29832 non-null  float64\n",
      " 11  bet_diff            29832 non-null  float64\n",
      " 12  homestage           29832 non-null  int64  \n",
      "dtypes: float64(4), int64(3), object(6)\n",
      "memory usage: 3.0+ MB\n"
     ]
    }
   ],
   "source": [
    "df.info()"
   ]
  },
  {
   "cell_type": "markdown",
   "id": "bd13b74f524cc21f",
   "metadata": {},
   "source": [
    "Параметры для обучения"
   ]
  },
  {
   "cell_type": "code",
   "execution_count": 40,
   "id": "b653793428bca893",
   "metadata": {
    "ExecuteTime": {
     "end_time": "2024-05-12T12:20:57.690882Z",
     "start_time": "2024-05-12T12:20:57.686236Z"
    }
   },
   "outputs": [],
   "source": [
    "log_reg=LogisticRegression()\n",
    "X = df[['rating_diff', 'players_score_diff', 'team_diff', 'bet_diff',\n",
    "       'homestage']]\n",
    "Y = df['match_result']"
   ]
  },
  {
   "cell_type": "code",
   "execution_count": 41,
   "id": "d67ba9c2fb1362ec",
   "metadata": {
    "ExecuteTime": {
     "end_time": "2024-05-12T12:22:23.475853Z",
     "start_time": "2024-05-12T12:22:23.470834Z"
    }
   },
   "outputs": [],
   "source": [
    "test_split_index=int(X.shape[0]*0.75)\n",
    "X_train=X[:test_split_index]\n",
    "X_test=X[test_split_index:]\n",
    "Y_train=Y[:test_split_index]\n",
    "Y_test=Y[test_split_index:]"
   ]
  },
  {
   "cell_type": "code",
   "execution_count": 42,
   "id": "02cc6a65",
   "metadata": {},
   "outputs": [],
   "source": [
    "log_reg.fit(X_train, Y_train)\n",
    "Y_predicted=log_reg.predict(X_test)"
   ]
  },
  {
   "cell_type": "code",
   "execution_count": 43,
   "id": "3b26386e7d6ee8fa",
   "metadata": {
    "ExecuteTime": {
     "end_time": "2024-05-12T12:23:03.832474Z",
     "start_time": "2024-05-12T12:23:03.819629Z"
    }
   },
   "outputs": [
    {
     "name": "stdout",
     "output_type": "stream",
     "text": [
      "Overall accuracy: 0.7459104317511397\n",
      "Overall precision: 0.6376376376376376\n",
      "Overall recall: 0.29354838709677417\n"
     ]
    }
   ],
   "source": [
    "print('Overall accuracy:', accuracy_score(Y_test, Y_predicted))\n",
    "print('Overall precision:', precision_score(Y_test, Y_predicted))\n",
    "print('Overall recall:', recall_score(Y_test, Y_predicted))"
   ]
  },
  {
   "cell_type": "code",
   "execution_count": 49,
   "id": "9cd9d92bbac84477",
   "metadata": {
    "ExecuteTime": {
     "end_time": "2024-05-12T12:23:03.838549Z",
     "start_time": "2024-05-12T12:23:03.835482Z"
    }
   },
   "outputs": [
    {
     "name": "stdout",
     "output_type": "stream",
     "text": [
      "<class 'pandas.core.frame.DataFrame'>\n",
      "RangeIndex: 13064 entries, 0 to 13063\n",
      "Data columns (total 9 columns):\n",
      " #   Column              Non-Null Count  Dtype  \n",
      "---  ------              --------------  -----  \n",
      " 0   country_name        13064 non-null  object \n",
      " 1   league_name         13064 non-null  object \n",
      " 2   team_long_name      13064 non-null  object \n",
      " 3   team_short_name     13064 non-null  object \n",
      " 4   rating_diff         13064 non-null  float64\n",
      " 5   players_score_diff  13064 non-null  float64\n",
      " 6   team_diff           13064 non-null  float64\n",
      " 7   bet_diff            13064 non-null  float64\n",
      " 8   homestage           13064 non-null  int64  \n",
      "dtypes: float64(4), int64(1), object(4)\n",
      "memory usage: 918.7+ KB\n"
     ]
    }
   ],
   "source": [
    "forecast_df = pd.read_csv('./src/new_variables.csv')\n",
    "forecast_df.info()"
   ]
  },
  {
   "cell_type": "code",
   "execution_count": 51,
   "id": "abc3ac28",
   "metadata": {},
   "outputs": [
    {
     "name": "stdout",
     "output_type": "stream",
     "text": [
      "<class 'pandas.core.frame.DataFrame'>\n",
      "RangeIndex: 13064 entries, 0 to 13063\n",
      "Data columns (total 10 columns):\n",
      " #   Column              Non-Null Count  Dtype  \n",
      "---  ------              --------------  -----  \n",
      " 0   country_name        13064 non-null  object \n",
      " 1   league_name         13064 non-null  object \n",
      " 2   team_long_name      13064 non-null  object \n",
      " 3   team_short_name     13064 non-null  object \n",
      " 4   rating_diff         13064 non-null  float64\n",
      " 5   players_score_diff  13064 non-null  float64\n",
      " 6   team_diff           13064 non-null  float64\n",
      " 7   bet_diff            13064 non-null  float64\n",
      " 8   homestage           13064 non-null  int64  \n",
      " 9   match_result        13064 non-null  int64  \n",
      "dtypes: float64(4), int64(2), object(4)\n",
      "memory usage: 1020.8+ KB\n"
     ]
    }
   ],
   "source": [
    "predicted_match_result=log_reg.predict(forecast_df[['rating_diff', 'players_score_diff', 'team_diff', 'bet_diff',\n",
    "       'homestage']])\n",
    "forecast_df['match_result']=predicted_match_result\n",
    "forecast_df.info()"
   ]
  },
  {
   "cell_type": "code",
   "execution_count": 52,
   "id": "dea21701",
   "metadata": {},
   "outputs": [],
   "source": [
    "forecast_df.to_csv(\n",
    "    './src/final_forecast.csv', index=False)"
   ]
  }
 ],
 "metadata": {
  "kernelspec": {
   "display_name": "Python 3 (ipykernel)",
   "language": "python",
   "name": "python3"
  },
  "language_info": {
   "codemirror_mode": {
    "name": "ipython",
    "version": 3
   },
   "file_extension": ".py",
   "mimetype": "text/x-python",
   "name": "python",
   "nbconvert_exporter": "python",
   "pygments_lexer": "ipython3",
   "version": "3.11.5"
  }
 },
 "nbformat": 4,
 "nbformat_minor": 5
}
