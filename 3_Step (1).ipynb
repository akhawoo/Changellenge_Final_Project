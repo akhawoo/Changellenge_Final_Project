{
 "cells": [
  {
   "cell_type": "code",
   "execution_count": 1,
   "id": "9ef7cebc1af265a0",
   "metadata": {
    "ExecuteTime": {
     "end_time": "2024-05-09T16:07:59.123195Z",
     "start_time": "2024-05-09T16:07:59.118875Z"
    }
   },
   "outputs": [],
   "source": [
    "import pandas as pd\n",
    "\n",
    "from sklearn.metrics import accuracy_score, precision_score, recall_score\n",
    "from sklearn.linear_model import LogisticRegression\n",
    "from sklearn.model_selection import train_test_split\n",
    "from sklearn.multioutput import MultiOutputClassifier"
   ]
  },
  {
   "cell_type": "code",
   "execution_count": 2,
   "id": "25f5880af6973a21",
   "metadata": {
    "ExecuteTime": {
     "end_time": "2024-05-09T16:07:59.182824Z",
     "start_time": "2024-05-09T16:07:59.130209Z"
    }
   },
   "outputs": [],
   "source": [
    "df = pd.read_csv('./src/final_dataset.csv')"
   ]
  },
  {
   "cell_type": "code",
   "execution_count": 3,
   "id": "8ade28d538ae3fa1",
   "metadata": {
    "ExecuteTime": {
     "end_time": "2024-05-09T16:07:59.190738Z",
     "start_time": "2024-05-09T16:07:59.184830Z"
    }
   },
   "outputs": [
    {
     "data": {
      "text/plain": [
       "Index(['date', 'season', 'team_long_name_home', 'team_short_name_home',\n",
       "       'team_short_name_away', 'team_long_name_away', 'home_team_goal',\n",
       "       'away_team_goal', 'match_result', 'home_players_average_rating',\n",
       "       'away_players_average_rating', 'home_players_average_score',\n",
       "       'away_players_average_score', 'away_team_score', 'home_team_score',\n",
       "       'avg_bet_home', 'avg_bet_draw', 'avg_bet_away'],\n",
       "      dtype='object')"
      ]
     },
     "execution_count": 3,
     "metadata": {},
     "output_type": "execute_result"
    }
   ],
   "source": [
    "df.columns"
   ]
  },
  {
   "cell_type": "code",
   "execution_count": 4,
   "id": "b77086460de6b923",
   "metadata": {
    "ExecuteTime": {
     "end_time": "2024-05-09T16:07:59.201963Z",
     "start_time": "2024-05-09T16:07:59.191748Z"
    }
   },
   "outputs": [],
   "source": [
    "df_encoded = pd.get_dummies(df, columns=['match_result'])"
   ]
  },
  {
   "cell_type": "markdown",
   "id": "bd13b74f524cc21f",
   "metadata": {},
   "source": [
    "Параметры для обучения"
   ]
  },
  {
   "cell_type": "code",
   "execution_count": 5,
   "id": "28e28cfd23f13d04",
   "metadata": {
    "ExecuteTime": {
     "end_time": "2024-05-09T16:07:59.207956Z",
     "start_time": "2024-05-09T16:07:59.202987Z"
    }
   },
   "outputs": [],
   "source": [
    "X = df[['home_team_score', 'away_team_score', 'home_players_average_rating', 'away_players_average_rating',\n",
    "        'avg_bet_home', 'avg_bet_draw',\n",
    "        'avg_bet_away']]"
   ]
  },
  {
   "cell_type": "code",
   "execution_count": 6,
   "id": "143493af7f2a70f0",
   "metadata": {
    "ExecuteTime": {
     "end_time": "2024-05-09T16:07:59.215764Z",
     "start_time": "2024-05-09T16:07:59.209966Z"
    }
   },
   "outputs": [],
   "source": [
    "y = df_encoded[['match_result_Home Win', 'match_result_Away Win', 'match_result_Draw']]"
   ]
  },
  {
   "cell_type": "code",
   "execution_count": 7,
   "id": "6501858b04fce2a6",
   "metadata": {
    "ExecuteTime": {
     "end_time": "2024-05-09T16:07:59.226459Z",
     "start_time": "2024-05-09T16:07:59.217772Z"
    }
   },
   "outputs": [],
   "source": [
    "X_train, X_test, y_train, y_test = train_test_split(X, y, test_size=0.25)"
   ]
  },
  {
   "cell_type": "code",
   "execution_count": 8,
   "id": "9b4ca2d11defc6e3",
   "metadata": {
    "ExecuteTime": {
     "end_time": "2024-05-09T16:07:59.234862Z",
     "start_time": "2024-05-09T16:07:59.229487Z"
    }
   },
   "outputs": [],
   "source": [
    "log_reg = LogisticRegression(max_iter=500)"
   ]
  },
  {
   "cell_type": "code",
   "execution_count": 9,
   "id": "842b270f7aab08dc",
   "metadata": {
    "ExecuteTime": {
     "end_time": "2024-05-09T16:07:59.318904Z",
     "start_time": "2024-05-09T16:07:59.252417Z"
    }
   },
   "outputs": [],
   "source": [
    "multi_target_log_reg = MultiOutputClassifier(log_reg, n_jobs=-1)\n",
    "multi_target_log_reg.fit(X_train, y_train);"
   ]
  },
  {
   "cell_type": "code",
   "execution_count": 10,
   "id": "183214659f1abca",
   "metadata": {
    "ExecuteTime": {
     "end_time": "2024-05-09T16:07:59.333560Z",
     "start_time": "2024-05-09T16:07:59.320913Z"
    }
   },
   "outputs": [],
   "source": [
    "y_predicted = multi_target_log_reg.predict(X_test)"
   ]
  },
  {
   "cell_type": "code",
   "execution_count": 11,
   "id": "62e2aef4381c063c",
   "metadata": {
    "ExecuteTime": {
     "end_time": "2024-05-09T16:07:59.357094Z",
     "start_time": "2024-05-09T16:07:59.338570Z"
    }
   },
   "outputs": [
    {
     "name": "stdout",
     "output_type": "stream",
     "text": [
      "Accuracy: 0.32904263877715206\n",
      "Recall: 0.32904263877715206\n",
      "Precision: 0.7276996541785383\n"
     ]
    }
   ],
   "source": [
    "print(f'Accuracy: {accuracy_score(y_test, y_predicted)}')\n",
    "print(f'Recall: {recall_score(y_test, y_predicted, average=\"weighted\")}')\n",
    "print(f'Precision: {precision_score(y_test, y_predicted, average=\"weighted\", zero_division=0)}')"
   ]
  }
 ],
 "metadata": {
  "kernelspec": {
   "display_name": "Python 3 (ipykernel)",
   "language": "python",
   "name": "python3"
  },
  "language_info": {
   "codemirror_mode": {
    "name": "ipython",
    "version": 3
   },
   "file_extension": ".py",
   "mimetype": "text/x-python",
   "name": "python",
   "nbconvert_exporter": "python",
   "pygments_lexer": "ipython3",
   "version": "3.11.5"
  }
 },
 "nbformat": 4,
 "nbformat_minor": 5
}
